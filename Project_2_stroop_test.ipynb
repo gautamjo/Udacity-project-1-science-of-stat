{
 "cells": [
  {
   "cell_type": "code",
   "execution_count": 1,
   "metadata": {},
   "outputs": [
    {
     "data": {
      "text/html": [
       "<script>\n",
       "code_show=true; \n",
       "function code_toggle() {\n",
       " if (code_show){\n",
       " $('div.input').hide();\n",
       " } else {\n",
       " $('div.input').show();\n",
       " }\n",
       " code_show = !code_show\n",
       "} \n",
       "$( document ).ready(code_toggle);\n",
       "</script>\n",
       "<form action=\"javascript:code_toggle()\"><input type=\"submit\" value=\"Click here to toggle on/off the raw code.\"></form>"
      ],
      "text/plain": [
       "<IPython.core.display.HTML object>"
      ]
     },
     "execution_count": 1,
     "metadata": {},
     "output_type": "execute_result"
    }
   ],
   "source": [
    "from IPython.display import HTML\n",
    "\n",
    "HTML('''<script>\n",
    "code_show=true; \n",
    "function code_toggle() {\n",
    " if (code_show){\n",
    " $('div.input').hide();\n",
    " } else {\n",
    " $('div.input').show();\n",
    " }\n",
    " code_show = !code_show\n",
    "} \n",
    "$( document ).ready(code_toggle);\n",
    "</script>\n",
    "<form action=\"javascript:code_toggle()\"><input type=\"submit\" value=\"Click here to toggle on/off the raw code.\"></form>''')"
   ]
  },
  {
   "cell_type": "code",
   "execution_count": 2,
   "metadata": {},
   "outputs": [],
   "source": [
    "from IPython.display import Image\n",
    "import numpy as np\n",
    "from scipy import stats\n",
    "import pandas as pd\n",
    "import plotly\n",
    "import plotly.plotly as py\n",
    "import plotly.graph_objs as go\n",
    "import matplotlib.pyplot as plt\n",
    "%matplotlib inline"
   ]
  },
  {
   "cell_type": "markdown",
   "metadata": {},
   "source": [
    "<h1>$ Statistics: The\\, Science\\, of\\, Decisions$</h1> \n",
    "\n",
    "<h3>Background Information</h3>\n",
    "<p><i>In a Stroop task, participants are presented with a list of words with each word displayed in a color of ink. The participant’s task is to say out loud the color of the ink in which the word is printed. The task has two conditions: a congruent words condition and an incongruent words condition. In the congruent words condition, the words being displayed are color words whose names match the colors in which they are printed: for example RED is red, BLUE is blue.</i></p>\n",
    "\n",
    "<p><i>In the incongruent words condition, the words displayed are color words whose names do not match the colors in which they are printed: for example PURPLE is blue, BROWN is green.</i></p>\n",
    "\n",
    "<p><i>In each case, we measure the time it takes to name the ink colors in equally-sized lists. Each participant will go through and record a time from each condition.</i></p><br>\n",
    "\n",
    "<h3><strong>Q1:</strong><em> What is our independent variable? What is our dependent variable?</em></h3><br>\n",
    "\n",
    "<p><strong>A1:</strong><em> An independent variable, also known an experimental or predictor variable, is a variable that is being manipulated in an experiment in order to observe the effect on a dependent variable, sometimes called an outcome variable.</em></p>\n",
    "\n",
    "<p><em>In this study, our independent variable is, <strong>Congruent and Incongruent words condition.</strong> Our dependent variable is,<strong> Reaction time of the participants.</strong> Specifically, the amount of time taken by participants to speak out words in both congruent and incongruent conditions.</em></p><br>\n",
    "\n",
    "<h3><strong>Q2:</strong><em> What is an appropriate set of hypotheses for this task? What kind of statistical test do you expect to perform? Justify your choices.</em></h3><br>\n",
    "\n",
    "<p><b>A2:</b><i> Appropriate hypotheses for this task are:<br>\n",
    "For the Null hypothesis we are guessing that stroop test does not affect reaction time.</i></p>\n",
    "\n",
    "$$H_o: \\mu_{congruent} = \\mu_{incongruent}$$ \n",
    "\n",
    "<i> For the Alternate hypothesis we are guessing that stroop test decreases reaction time.</i>\n",
    "\n",
    "$$H_a: \\mu_{congruent} < \\mu_{incongruent}$$ \n",
    "\n",
    "<p><i>Here $\\mu_{congruent}$ means (an hypothetical) average reaction time for the congruent words condition. And $\\mu_{incongruent}$ means (an hypothetical) average reaction time for incogruent words condition. We are hypothesising that average reaction time to read a set of words before and after the stroop test will be same. One the other hand, we are also proposing an alternate hypothesis which argues that stroop test will make us slower and delay our reaction time. Hence, $\\mu_{congruent} < \\mu_{incongruent}$ </i></p>\n",
    "\n",
    "<p><i>The statistical test we are going to perform on our hypostheses is: a one tailed t-test in the negative direction, at an $\\alpha$ level of 0.05 and a confidence interval of 95%. Through this test, we are trying to validate whether stroop test decreases reaction time or not. Therefore, if our t-value is within the (negative) t-critical region of our chosen alpha level, we will reject the null.</i></p><br> \n",
    "<p><i>Given that we dont know the standard deviation of the population, our sample size being less than 30 and our alternate hypothesis suggesting that $\\mu_{congruent}$ will be less than $\\mu_{incongruent}$ (in other words, alternate hypothesis going in the negative direction), a one tailed t-test in the negative direction will be an appropriate test to validate our hyposthesis. Also, note that because the same subjects took the tests in two different conditions, we have dependent samples. We can compare the two averages of these dependent samples with a one-tailed t-test.</i></p><br>\n",
    "\n",
    "<h3><b>Q3:</b> <i>Report some descriptive statistics regarding this dataset. Include at least one measure of central tendency and at least one measure of variability.</i></h3><br>\n",
    "\n",
    "<p><b>A3:</b> <i>To answer this question, lets first look at the dataset.</i></p>\n",
    "\n"
   ]
  },
  {
   "cell_type": "code",
   "execution_count": 3,
   "metadata": {},
   "outputs": [
    {
     "name": "stdout",
     "output_type": "stream",
     "text": [
      "    Congruent  Incongruent\n",
      "0      12.079       19.278\n",
      "1      16.791       18.741\n",
      "2       9.564       21.214\n",
      "3       8.630       15.687\n",
      "4      14.669       22.803\n",
      "5      12.238       20.878\n",
      "6      14.692       24.572\n",
      "7       8.987       17.394\n",
      "8       9.401       20.762\n",
      "9      14.480       26.282\n",
      "10     22.328       24.524\n",
      "11     15.298       18.644\n",
      "12     15.073       17.510\n",
      "13     16.929       20.330\n",
      "14     18.200       35.255\n",
      "15     12.130       22.158\n",
      "16     18.495       25.139\n",
      "17     10.639       20.429\n",
      "18     11.344       17.425\n",
      "19     12.369       34.288\n",
      "20     12.944       23.894\n",
      "21     14.233       17.960\n",
      "22     19.710       22.058\n",
      "23     16.004       21.157\n"
     ]
    }
   ],
   "source": [
    "# loading csv\n",
    "df= pd.read_csv(\"data/stroopdata.csv\")\n",
    "congruent = df[\"Congruent\"]\n",
    "incongruent = df[\"Incongruent\"]\n",
    "print(df)"
   ]
  },
  {
   "cell_type": "markdown",
   "metadata": {},
   "source": [
    "<i>As we can see, the table above is divided into two columns:</i> \n",
    "<ul><i>\n",
    "<li><b>Congruent:</b> Displays time (in seconds) each participant took to read words pre stroop test.</li> \n",
    "<li><b>Incongruent:</b> Displays time (in seconds) each participant took to read words post stroop test.</li>\n",
    "</i></ul>\n",
    "\n",
    "<i>This table below tells us about the sample size and degrees of freedom of the dataset.</i> \n",
    "\n"
   ]
  },
  {
   "cell_type": "code",
   "execution_count": 4,
   "metadata": {},
   "outputs": [
    {
     "name": "stdout",
     "output_type": "stream",
     "text": [
      "+-------------+--------------------+\n",
      "| Sample Size | Degress of Freedom |\n",
      "+-------------+--------------------+\n",
      "|      24     |         23         |\n",
      "+-------------+--------------------+\n"
     ]
    }
   ],
   "source": [
    "from prettytable import PrettyTable as pt\n",
    "x = pt()\n",
    "x.field_names = [\"Sample Size\", \"Degress of Freedom\"]\n",
    "x.add_row([len(df), len(df) - 1])\n",
    "print(x)"
   ]
  },
  {
   "cell_type": "markdown",
   "metadata": {},
   "source": [
    "<i>Calculated on the basis of the dataset, the measures of central tendency and variability of the two conditions are shown in the following table:</i>"
   ]
  },
  {
   "cell_type": "code",
   "execution_count": 5,
   "metadata": {},
   "outputs": [
    {
     "name": "stdout",
     "output_type": "stream",
     "text": [
      "       Congruent  Incongruent\n",
      "count  24.000000    24.000000\n",
      "mean   14.051125    22.015917\n",
      "std     3.559358     4.797057\n",
      "min     8.630000    15.687000\n",
      "25%    11.895250    18.716750\n",
      "50%    14.356500    21.017500\n",
      "75%    16.200750    24.051500\n",
      "max    22.328000    35.255000\n"
     ]
    }
   ],
   "source": [
    "# descriptive statistics\n",
    "print(df.describe())"
   ]
  },
  {
   "cell_type": "markdown",
   "metadata": {},
   "source": [
    "<i>There is a big difference between the mean and median values of congruent and incongruent words conditions. Where on one hand, the average time taken by a participant to read words pre stroop test is 14.05 seconds. On the other, the same participant has taken an average time of 22.02 seconds post stroop test. That is an average difference of -7.97 seconds! This is an indication that participants read faster in congruent words condition than in incongruent words condition. But is this indication statistically significant to effect the entire population, is too early to tell.<br></i>\n",
    "\n",
    "<i> The dataset can be further examined through these box plots below which compare the measures of spread of both the conditions.</i> \n"
   ]
  },
  {
   "cell_type": "code",
   "execution_count": 6,
   "metadata": {},
   "outputs": [
    {
     "data": {
      "image/png": "[encoded data removed]",
      "text/plain": [
       "<matplotlib.figure.Figure at 0x113559668>"
      ]
     },
     "metadata": {},
     "output_type": "display_data"
    }
   ],
   "source": [
    "# Box plots of the two conditions\n",
    "#plt.figure()\n",
    "df.plot(title=\"Box Plot of Both Conditions\", kind=\"box\", color=\"b\",\n",
    "       figsize=(8,6))\n",
    "y_label = plt.ylabel('Reaction Time (seconds)')"
   ]
  },
  {
   "cell_type": "markdown",
   "metadata": {},
   "source": [
    "<p><i>The lowest time taken to read a set of words is 8.63 seconds and the highest time taken is 22.328 seconds as shown by the lower and upper whiskers of the box plot of congruent words condition. \n",
    "The 1st quartile of congruent words lies at 11.712 seconds; 3rd quartile of congruent words lies at 16.398 seconds. The interquatile range of congruent words is 4.69 seconds.</i></p>\n",
    "\n",
    "<p><i>On the other hand, 15.687 seconds is the lowest value and 35.255 seconds is higest value of the incongruent words condition. The 1st quartile of incongruent words lies at 18.693 seconds while the 3rd quartile lies at 24.209 seconds. The interquartile range is 5.52 seconds.</i><br>\n",
    "<i>The box plots definitely imply that there is a difference between those two conditions.</i></p><br>\n",
    "\n",
    "<h3><b>Q4:</b> <i>Provide one or two visualizations that show the distribution of the sample data. Write one or two sentences noting what you observe about the plot or plots.</i></h3><br>\n"
   ]
  },
  {
   "cell_type": "markdown",
   "metadata": {},
   "source": [
    "<b>A4:</b> <i>The charts below compare the histograms of both congruent and incogruent words condition.</i>"
   ]
  },
  {
   "cell_type": "code",
   "execution_count": 7,
   "metadata": {},
   "outputs": [
    {
     "data": {
      "text/plain": [
       "[0, 40, 0, 8]"
      ]
     },
     "execution_count": 7,
     "metadata": {},
     "output_type": "execute_result"
    },
    {
     "data": {
      "image/png": "[encoded data removed]",
      "text/plain": [
       "<matplotlib.figure.Figure at 0x1135864e0>"
      ]
     },
     "metadata": {},
     "output_type": "display_data"
    }
   ],
   "source": [
    "# Histogram of the Congruent words Condition\n",
    "plt.subplot(1, 2, 1)\n",
    "plot1 = congruent.plot(title=\"Histogram of the Congruent Words Condition\", kind=\"hist\", bins=7, color=\"Turquoise\",\n",
    "                      figsize = (15, 6), edgecolor='black', linewidth=1)\n",
    "xLabel = plt.xlabel('Reaction Time (seconds)')\n",
    "plt.axis([0,40,0,8])\n",
    "\n",
    "# Histogram of the Incongruent words Condition\n",
    "plt.subplot(1, 2, 2)\n",
    "plot2 = incongruent.plot(title='Histogram of the Incongruent Words Condition', kind=\"hist\", color=\"#f44268\",\n",
    "                        figsize= (15, 6), edgecolor='black', linewidth=1)\n",
    "xLabel = plt.xlabel('Reaction Time (seconds)')\n",
    "plt.axis([0,40,0,8])"
   ]
  },
  {
   "cell_type": "markdown",
   "metadata": {},
   "source": [
    "<i> The tallest bin of the congruent words condition histogram has a frequency of 6 with an interval of 10 - 12.5 seconds. This suggests that most particapants took between 10 to 12.5 seconds to read words before the stroop test. In comparison, the histogram of incongruent words condition suggests that the time taken by most participants to read a set of words after stroop test, was between 20 - 22.5 seconds. This comparison futher establishes a delay in reaction time between the two conditions.</i> \n",
    "\n",
    "<i>This difference in reaction time is highlighted considerably by clustered bar chart below which compares the reaction time of each individual sample in the dataset before and after the stroop test.</i>"
   ]
  },
  {
   "cell_type": "code",
   "execution_count": 8,
   "metadata": {},
   "outputs": [
    {
     "data": {
      "text/html": [
       "<iframe id=\"igraph\" scrolling=\"no\" style=\"border:none;\" seamless=\"seamless\" src=\"https://plot.ly/~studiostargazer/18.embed\" height=\"525px\" width=\"100%\"></iframe>"
      ],
      "text/plain": [
       "<plotly.tools.PlotlyDisplay object>"
      ]
     },
     "execution_count": 8,
     "metadata": {},
     "output_type": "execute_result"
    }
   ],
   "source": [
    "# cluster chart for congruent and incongruent words\n",
    "\n",
    "trace1 = go.Bar(\n",
    "    x= [i for i in range(1, 25)],\n",
    "    y= congruent,\n",
    "    name='Congruent'\n",
    ")\n",
    "trace2 = go.Bar(\n",
    "    x= [i for i in range(1, 25)],\n",
    "    y= incongruent,\n",
    "    name='Incongruent'\n",
    ")\n",
    "trace3 = go.Bar(\n",
    "    x = [i for i in range(1, 25)],\n",
    "    y = congruent - incongruent,\n",
    "    name = \"Difference\"\n",
    ")\n",
    "\n",
    "data = [trace1, trace2, trace3]\n",
    "layout = go.Layout(title='Cluster chart for Congruent and Incongruent Words', \n",
    "                   barmode='group', \n",
    "                   xaxis = dict(title = \"Participants\"),\n",
    "                   yaxis = dict(title = \"Response time in Seconds\")\n",
    "                  )\n",
    "\n",
    "fig = go.Figure(data=data, layout=layout)\n",
    "py.iplot(fig, filename='grouped-bar')"
   ]
  },
  {
   "cell_type": "markdown",
   "metadata": {},
   "source": [
    "<p><i>The blue bars are the reaction time for congruent words condition and orange ones are for the incongruent words condition; the green bars are the difference between them. Lower bars indicate faster reaction time while higher bars indicate slower reaction time. Looking at the chart, we can observe a side by side comparison of how the reaction time differs before and after the test. And this comparison quite convincingly shows us that every single participant in the sample took more time in reading words after the stroop test was introduced.</i></p><br> \n",
    "\n",
    "<h3><b>Q5:</b> <i>Now, perform the statistical test and report your results. What is your confidence level and your critical statistic value? Do you reject the null hypothesis or fail to reject it? Come to a conclusion in terms of the experiment task. Did the results match up with your expectations?</i></h3><br>\n",
    "\n",
    "<p><b>A5:</b> <i> Here are a some values we need to know before we start our statistical test:</i></p>\n",
    "$$degrees\\, of\\, freedom: \\, 23$$\n",
    "$$t-critical\\, value\\, for\\, \\alpha\\; 0.05:\\, -1.714$$\n",
    "$$Mean\\, difference:\\, -7.96\\, seconds$$\n",
    "$$Standard\\, Error:\\, 0.99\\, seconds$$\n",
    "\n",
    "<i>We can now calculate the t score based on the above values,</i>\n",
    "\n",
    "$$t\\,score:\\, -8.02$$\n",
    "\n",
    "<i>The t score has a p value $<$ 0.0001. And therefore it can be said, the result is significant at p $<$ 0.05%</i>\n",
    "\n",
    "<i>Lower and upper bounds for a 95% confidence interval are:</i>\n",
    "$$Lower\\, bound -10.01\\, seconds $$ \n",
    "$$Upper\\, bound -5.91\\, seconds$$\n",
    "\n",
    "<i> Finally we can say, because the t score of our test is way below our t-critical value of -1.714, we reject the null.</i><br> \n",
    "<i>Based on this evidence, we can conclude that stroop test decreases reaction time. This result definately matches our expectations.</i>"
   ]
  },
  {
   "cell_type": "markdown",
   "metadata": {},
   "source": [
    "<h3>References</h3>\n",
    "\n",
    "<ul>List of references:\n",
    "<li>Introduction to statistics, http://www.Udacity.com</li>\n",
    "<li>wikipedia</li>\n",
    "<li>http://www.statisticshowto.com</li>\n",
    "<li>http://www.stattrek.com</li>\n",
    "<li>http://www.minitab.com</li>\n",
    "<li>http://blog.minitab.com/</li>\n",
    "<li>http://www.khanacademy.org</li>\n",
    "<li>http://www.plotly.ly</li>\n",
    "<li>http://www.udemy.com</li>\n",
    "<li>cartoon guide to statistics by Larry Gonick and Woollcott Smith</li></ul>"
   ]
  },
  {
   "cell_type": "code",
   "execution_count": null,
   "metadata": {},
   "outputs": [],
   "source": []
  }
 ],
 "metadata": {
  "kernelspec": {
   "display_name": "Python 3",
   "language": "python",
   "name": "python3"
  },
  "language_info": {
   "codemirror_mode": {
    "name": "ipython",
    "version": 3
   },
   "file_extension": ".py",
   "mimetype": "text/x-python",
   "name": "python",
   "nbconvert_exporter": "python",
   "pygments_lexer": "ipython3",
   "version": "3.6.3"
  }
 },
 "nbformat": 4,
 "nbformat_minor": 2
}
